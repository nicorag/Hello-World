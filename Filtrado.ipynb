{
  "nbformat": 4,
  "nbformat_minor": 0,
  "metadata": {
    "colab": {
      "name": "Filtrado.ipynb",
      "provenance": [],
      "authorship_tag": "ABX9TyNR891U5kxq8VcOUd0CpWli",
      "include_colab_link": true
    },
    "kernelspec": {
      "name": "python3",
      "display_name": "Python 3"
    },
    "language_info": {
      "name": "python"
    }
  },
  "cells": [
    {
      "cell_type": "markdown",
      "metadata": {
        "id": "view-in-github",
        "colab_type": "text"
      },
      "source": [
        "<a href=\"https://colab.research.google.com/github/nicorag/Hello-World/blob/master/Filtrado.ipynb\" target=\"_parent\"><img src=\"https://colab.research.google.com/assets/colab-badge.svg\" alt=\"Open In Colab\"/></a>"
      ]
    },
    {
      "cell_type": "code",
      "metadata": {
        "colab": {
          "base_uri": "https://localhost:8080/"
        },
        "id": "bHCm982aHOdq",
        "outputId": "20aa77b8-8f32-4338-ee56-afdd0635a6ff"
      },
      "source": [
        "def multiple(numero):  #Primero declaramos una función condicional\n",
        "  if numero %5==0:       #Compramos si un numero es múltiplo de cinco\n",
        "    return True\n",
        "\n",
        "numeros=[2,5,10,23,50,33]\n",
        "filter(multiple,numeros)"
      ],
      "execution_count": 1,
      "outputs": [
        {
          "output_type": "execute_result",
          "data": {
            "text/plain": [
              "<filter at 0x7f415789f350>"
            ]
          },
          "metadata": {
            "tags": []
          },
          "execution_count": 1
        }
      ]
    },
    {
      "cell_type": "code",
      "metadata": {
        "colab": {
          "base_uri": "https://localhost:8080/"
        },
        "id": "xXwDk07uHsay",
        "outputId": "6c151d49-a0fa-4ea4-dec6-2c428664985b"
      },
      "source": [
        "list(filter(multiple,numeros))"
      ],
      "execution_count": 2,
      "outputs": [
        {
          "output_type": "execute_result",
          "data": {
            "text/plain": [
              "[5, 10, 50]"
            ]
          },
          "metadata": {
            "tags": []
          },
          "execution_count": 2
        }
      ]
    },
    {
      "cell_type": "code",
      "metadata": {
        "id": "QzOG6yFNIuWD"
      },
      "source": [
        "class Persona:\n",
        "  def __init__(self,nombre,edad):\n",
        "    self.nombre=nombre\n",
        "    self.edad=edad\n",
        "\n",
        "  def __str__(self):\n",
        "    return \"{} de {} años\".format(self.nombre,self.edad)\n",
        "personas=[\n",
        "      Persona(\"Juan\",35),\n",
        "      Persona(\"Marta\",16),\n",
        "      Persona(\"Manuel\",78),\n",
        "      Persona(\"Eduardo\",12)\n",
        "      ]\n"
      ],
      "execution_count": 4,
      "outputs": []
    },
    {
      "cell_type": "code",
      "metadata": {
        "colab": {
          "base_uri": "https://localhost:8080/"
        },
        "id": "gU1zKZlnJePJ",
        "outputId": "d5bae9d1-87b7-4f31-d4d9-a069550a1eaa"
      },
      "source": [
        "menores=filter(lambda persona: persona.edad<18, personas)\n",
        "for menor in menores:\n",
        "  print(menor)"
      ],
      "execution_count": 5,
      "outputs": [
        {
          "output_type": "stream",
          "text": [
            "Marta de 16 años\n",
            "Eduardo de 12 años\n"
          ],
          "name": "stdout"
        }
      ]
    },
    {
      "cell_type": "code",
      "metadata": {
        "colab": {
          "base_uri": "https://localhost:8080/"
        },
        "id": "pdPNRLFaKDf4",
        "outputId": "d0d52efb-08a6-4333-a1e9-24e4e3064e8b"
      },
      "source": [
        "#La función Map aplica una función sobre todos los elementos de una lista y devuelve un iterable tipo map\n",
        "def doblar(numero):\n",
        "  return numero*2\n",
        "numeros=[2,3,4,5]\n",
        "map(doblar,numeros)  "
      ],
      "execution_count": 6,
      "outputs": [
        {
          "output_type": "execute_result",
          "data": {
            "text/plain": [
              "<map at 0x7f4152f50650>"
            ]
          },
          "metadata": {
            "tags": []
          },
          "execution_count": 6
        }
      ]
    },
    {
      "cell_type": "code",
      "metadata": {
        "colab": {
          "base_uri": "https://localhost:8080/"
        },
        "id": "QtlxHLSxKbgU",
        "outputId": "175ea749-61bd-4e93-82da-4c082ca59754"
      },
      "source": [
        "#Transformamos el iterable en lista\n",
        "list(map(doblar,numeros))"
      ],
      "execution_count": 7,
      "outputs": [
        {
          "output_type": "execute_result",
          "data": {
            "text/plain": [
              "[4, 6, 8, 10]"
            ]
          },
          "metadata": {
            "tags": []
          },
          "execution_count": 7
        }
      ]
    },
    {
      "cell_type": "code",
      "metadata": {
        "colab": {
          "base_uri": "https://localhost:8080/"
        },
        "id": "-1J0za2cKkYf",
        "outputId": "37cb592d-6492-4594-8597-c927431408a5"
      },
      "source": [
        "#para simplificarlo, con una función lambda podemos sustituir la llamada de una función\n",
        "list(map(lambda x:x*3,numeros))\n",
        "#La función Map se usa con lambda porque permite evitar la definición de bucles"
      ],
      "execution_count": 8,
      "outputs": [
        {
          "output_type": "execute_result",
          "data": {
            "text/plain": [
              "[6, 9, 12, 15]"
            ]
          },
          "metadata": {
            "tags": []
          },
          "execution_count": 8
        }
      ]
    },
    {
      "cell_type": "code",
      "metadata": {
        "colab": {
          "base_uri": "https://localhost:8080/"
        },
        "id": "VsraYW_8K7DZ",
        "outputId": "c90b36b4-6442-4264-d38b-77f33059e4ab"
      },
      "source": [
        "a=[1,2,3,4]\n",
        "b=[4,3,5,6]\n",
        "list(map(lambda x,y:x*y,a,b))"
      ],
      "execution_count": 9,
      "outputs": [
        {
          "output_type": "execute_result",
          "data": {
            "text/plain": [
              "[4, 6, 15, 24]"
            ]
          },
          "metadata": {
            "tags": []
          },
          "execution_count": 9
        }
      ]
    },
    {
      "cell_type": "code",
      "metadata": {
        "colab": {
          "base_uri": "https://localhost:8080/"
        },
        "id": "OE3iFaZ3LH9I",
        "outputId": "0acdcb11-4d18-4993-e19c-fc0bef783cff"
      },
      "source": [
        "def incrementar(p):\n",
        "  p.edad += 1\n",
        "  return p\n",
        "personas= map(incrementar,personas)\n",
        "\n",
        "for persona in personas:\n",
        "  print(persona)"
      ],
      "execution_count": 10,
      "outputs": [
        {
          "output_type": "stream",
          "text": [
            "Juan de 36 años\n",
            "Marta de 17 años\n",
            "Manuel de 79 años\n",
            "Eduardo de 13 años\n"
          ],
          "name": "stdout"
        }
      ]
    }
  ]
}